{
 "cells": [
  {
   "cell_type": "code",
   "execution_count": 0,
   "metadata": {
    "application/vnd.databricks.v1+cell": {
     "cellMetadata": {
      "byteLimit": 2048000,
      "rowLimit": 10000
     },
     "inputWidgets": {},
     "nuid": "53f741b0-4c66-483c-977a-e2df766d7d4d",
     "showTitle": false,
     "tableResultSettingsMap": {},
     "title": ""
    }
   },
   "outputs": [],
   "source": [
    "import pyspark.sql.functions as f\n",
    "from pyspark.ml.feature import VectorAssembler\n",
    "import lightgbm as lgb\n",
    "from lightgbm import early_stopping, log_evaluation\n",
    "from sklearn.metrics import ndcg_score\n",
    "from sklearn.model_selection import train_test_split\n",
    "import numpy as np"
   ]
  },
  {
   "cell_type": "code",
   "execution_count": 0,
   "metadata": {
    "application/vnd.databricks.v1+cell": {
     "cellMetadata": {
      "byteLimit": 2048000,
      "rowLimit": 10000
     },
     "inputWidgets": {},
     "nuid": "269a52ee-0bd0-4fb3-88e8-c57f881ce100",
     "showTitle": false,
     "tableResultSettingsMap": {},
     "title": ""
    }
   },
   "outputs": [],
   "source": [
    "#carrega dataframe de dados de treinamento já processado\n",
    "df = spark.table(\"hive_metastore.default.processed_df_json\").orderBy(\"account_id\", \"relevance\")"
   ]
  },
  {
   "cell_type": "code",
   "execution_count": 0,
   "metadata": {
    "application/vnd.databricks.v1+cell": {
     "cellMetadata": {
      "byteLimit": 2048000,
      "rowLimit": 10000
     },
     "inputWidgets": {},
     "nuid": "47b1454c-0095-4332-b61f-52a0886dcb00",
     "showTitle": false,
     "tableResultSettingsMap": {},
     "title": ""
    }
   },
   "outputs": [],
   "source": [
    "#adiciona coluna com número do grupo que será usado no treinamento\n",
    "group_user_id = (\n",
    "    df.select(\"account_id\").distinct()\n",
    "    .withColumn(\"group_id\", f.monotonically_increasing_id())\n",
    ")\n",
    "\n",
    "pdf_group_user_id = df.join(group_user_id, \"account_id\", \"left\").toPandas()"
   ]
  },
  {
   "cell_type": "code",
   "execution_count": 0,
   "metadata": {
    "application/vnd.databricks.v1+cell": {
     "cellMetadata": {
      "byteLimit": 2048000,
      "rowLimit": 10000
     },
     "inputWidgets": {},
     "nuid": "69299f29-8e97-4733-8c50-5c784faf97c0",
     "showTitle": false,
     "tableResultSettingsMap": {},
     "title": ""
    }
   },
   "outputs": [],
   "source": [
    "unique_groups = pdf_group_user_id[\"group_id\"].dropna().unique()\n",
    "train_groups, test_groups = train_test_split(unique_groups, test_size=0.2, random_state=42)\n",
    "\n",
    "# Dados de treino\n",
    "train_df = pdf_group_user_id[pdf_group_user_id[\"group_id\"].isin(train_groups)].copy()\n",
    "train_df = train_df.sort_values(\"group_id\").reset_index(drop=True)\n",
    "group_train = train_df.groupby(\"group_id\", sort=False).size().to_list()\n",
    "\n",
    "# Dados de teste\n",
    "test_df = pdf_group_user_id[pdf_group_user_id[\"group_id\"].isin(test_groups)].copy()\n",
    "test_df = test_df.sort_values(\"group_id\").reset_index(drop=True)\n",
    "group_test = test_df.groupby(\"group_id\", sort=False).size().to_list()\n",
    "\n",
    "#Features de usuário e features de ofertas\n",
    "feature_cols = [\n",
    "    \"age\", \"credit_limit_category\", \"user_avg_amount\", \"user_avg_reward\",\n",
    "    \"user_total_transactions\", \"days_since_registration\", \"is_fem\",\n",
    "    \"user_offer_conv_rate\", \"engagement_score\", \"min_value_affordability\",\n",
    "    \"discount_value\", \"min_value\", \"duration\", \"offer_type\"\n",
    "]"
   ]
  },
  {
   "cell_type": "code",
   "execution_count": 0,
   "metadata": {
    "application/vnd.databricks.v1+cell": {
     "cellMetadata": {
      "byteLimit": 2048000,
      "rowLimit": 10000
     },
     "inputWidgets": {},
     "nuid": "ede30667-2fe5-42c3-8304-a177cad8620f",
     "showTitle": false,
     "tableResultSettingsMap": {},
     "title": ""
    }
   },
   "outputs": [
    {
     "output_type": "stream",
     "name": "stdout",
     "output_type": "stream",
     "text": [
      "Training until validation scores don't improve for 50 rounds\n[10]\ttrain's ndcg@5: 0.768039\tvalid's ndcg@5: 0.769659\n[20]\ttrain's ndcg@5: 0.768811\tvalid's ndcg@5: 0.767598\n[30]\ttrain's ndcg@5: 0.769032\tvalid's ndcg@5: 0.767523\n[40]\ttrain's ndcg@5: 0.769846\tvalid's ndcg@5: 0.769383\n[50]\ttrain's ndcg@5: 0.770258\tvalid's ndcg@5: 0.769849\n[60]\ttrain's ndcg@5: 0.770213\tvalid's ndcg@5: 0.769858\n[70]\ttrain's ndcg@5: 0.770517\tvalid's ndcg@5: 0.769832\n[80]\ttrain's ndcg@5: 0.770867\tvalid's ndcg@5: 0.769736\n[90]\ttrain's ndcg@5: 0.771049\tvalid's ndcg@5: 0.770225\n[100]\ttrain's ndcg@5: 0.771379\tvalid's ndcg@5: 0.770336\n[110]\ttrain's ndcg@5: 0.771838\tvalid's ndcg@5: 0.769855\n[120]\ttrain's ndcg@5: 0.772222\tvalid's ndcg@5: 0.770168\n[130]\ttrain's ndcg@5: 0.772499\tvalid's ndcg@5: 0.770258\n[140]\ttrain's ndcg@5: 0.772809\tvalid's ndcg@5: 0.770164\n[150]\ttrain's ndcg@5: 0.772746\tvalid's ndcg@5: 0.770466\n[160]\ttrain's ndcg@5: 0.773053\tvalid's ndcg@5: 0.770515\n[170]\ttrain's ndcg@5: 0.773251\tvalid's ndcg@5: 0.770664\n[180]\ttrain's ndcg@5: 0.773374\tvalid's ndcg@5: 0.770512\n[190]\ttrain's ndcg@5: 0.773525\tvalid's ndcg@5: 0.770943\n[200]\ttrain's ndcg@5: 0.773705\tvalid's ndcg@5: 0.770835\n[210]\ttrain's ndcg@5: 0.773854\tvalid's ndcg@5: 0.771078\n[220]\ttrain's ndcg@5: 0.773842\tvalid's ndcg@5: 0.771172\n[230]\ttrain's ndcg@5: 0.773978\tvalid's ndcg@5: 0.77111\n[240]\ttrain's ndcg@5: 0.774138\tvalid's ndcg@5: 0.770992\n[250]\ttrain's ndcg@5: 0.774141\tvalid's ndcg@5: 0.771032\n[260]\ttrain's ndcg@5: 0.77433\tvalid's ndcg@5: 0.771002\n[270]\ttrain's ndcg@5: 0.774431\tvalid's ndcg@5: 0.771152\nEarly stopping, best iteration is:\n[227]\ttrain's ndcg@5: 0.773996\tvalid's ndcg@5: 0.771387\n"
     ]
    }
   ],
   "source": [
    "X_train = train_df[feature_cols]\n",
    "y_train = train_df[\"relevance\"]\n",
    "\n",
    "X_test = test_df[feature_cols]\n",
    "y_test = test_df[\"relevance\"]\n",
    "\n",
    "lgb_train = lgb.Dataset(X_train, label=y_train)\n",
    "lgb_train.set_group(group_train)\n",
    "\n",
    "lgb_valid = lgb.Dataset(X_test, label=y_test, reference=lgb_train)\n",
    "lgb_valid.set_group(group_test)\n",
    "\n",
    "#Definição de parâmetros do modelo\n",
    "params = {\n",
    "    \"objective\": \"lambdarank\",\n",
    "    \"metric\": \"ndcg\",\n",
    "    \"ndcg_eval_at\": [5],\n",
    "    \"learning_rate\": 0.002,\n",
    "    \"random_state\": 42,\n",
    "    \"verbosity\": -1, \n",
    "    \"colsample_bytree\":0.7,\n",
    "    \"n_estimators\":1500\n",
    "}\n",
    "\n",
    "#Treinamento\n",
    "model = lgb.train(\n",
    "    params,\n",
    "    lgb_train,\n",
    "    valid_sets=[lgb_train, lgb_valid],\n",
    "    valid_names=[\"train\", \"valid\"],\n",
    "    num_boost_round=100,\n",
    "    callbacks=[\n",
    "        early_stopping(stopping_rounds=50),\n",
    "        log_evaluation(period=10)\n",
    "    ]\n",
    ")\n"
   ]
  },
  {
   "cell_type": "code",
   "execution_count": 0,
   "metadata": {
    "application/vnd.databricks.v1+cell": {
     "cellMetadata": {
      "byteLimit": 2048000,
      "rowLimit": 10000
     },
     "inputWidgets": {},
     "nuid": "ccadf5ca-bda2-48b8-a17d-abb5f7814a29",
     "showTitle": false,
     "tableResultSettingsMap": {},
     "title": ""
    }
   },
   "outputs": [
    {
     "output_type": "stream",
     "name": "stdout",
     "output_type": "stream",
     "text": [
      "NDCG@3: 0.67\n"
     ]
    }
   ],
   "source": [
    "#calcula o ndcg@5\n",
    "y_pred = model.predict(X_test)\n",
    "\n",
    "def compute_ndcg(y_true, y_score, groups, k=5):\n",
    "    ndcgs = []\n",
    "    i = 0\n",
    "    for size in groups:\n",
    "        yt = y_true[i:i+size]\n",
    "        yp = y_score[i:i+size]\n",
    "        if len(yt) >= k:\n",
    "            ndcgs.append(ndcg_score([yt], [yp], k=k))\n",
    "        i += size\n",
    "    return np.mean(ndcgs)\n",
    "\n",
    "ndcg_at_5 = compute_ndcg(y_test.tolist(), y_pred.tolist(), group_test, k=5)\n",
    "print(f\"NDCG@3: {ndcg_at_5:.2f}\")"
   ]
  },
  {
   "cell_type": "code",
   "execution_count": 0,
   "metadata": {
    "application/vnd.databricks.v1+cell": {
     "cellMetadata": {
      "byteLimit": 2048000,
      "rowLimit": 10000
     },
     "inputWidgets": {},
     "nuid": "9f84714d-ea21-4c32-af31-d6397fd7fc7f",
     "showTitle": false,
     "tableResultSettingsMap": {},
     "title": ""
    }
   },
   "outputs": [
    {
     "output_type": "stream",
     "name": "stdout",
     "output_type": "stream",
     "text": [
      "                    feature   importance\n0           user_avg_reward  1829.710127\n1      user_offer_conv_rate   609.354052\n2            discount_value   295.870473\n3   min_value_affordability   149.594510\n4                 min_value   107.016323\n5           user_avg_amount   103.802399\n6   days_since_registration    67.524760\n7          engagement_score    57.111229\n8   user_total_transactions    53.133621\n9                       age    53.008431\n10                 duration    21.589270\n11    credit_limit_category    17.044190\n12                   is_fem     1.414300\n13               offer_type     0.000000\n"
     ]
    }
   ],
   "source": [
    "#Feature importance\n",
    "feature_importance = model.feature_importance(importance_type='gain')\n",
    "\n",
    "feature_names = X_train.columns.tolist()\n",
    "\n",
    "feat_imp_df = pd.DataFrame({\n",
    "    'feature': feature_names,\n",
    "    'importance': feature_importance\n",
    "})\n",
    "\n",
    "feat_imp_df = feat_imp_df.sort_values(by='importance', ascending=False).reset_index(drop=True)\n",
    "\n",
    "print(feat_imp_df)"
   ]
  },
  {
   "cell_type": "code",
   "execution_count": 0,
   "metadata": {
    "application/vnd.databricks.v1+cell": {
     "cellMetadata": {
      "byteLimit": 2048000,
      "rowLimit": 10000
     },
     "inputWidgets": {},
     "nuid": "b6c50b5b-8b96-4a15-b99a-c777805ff64f",
     "showTitle": false,
     "tableResultSettingsMap": {},
     "title": ""
    }
   },
   "outputs": [
    {
     "output_type": "stream",
     "name": "stdout",
     "output_type": "stream",
     "text": [
      "<Figure size 1440x432 with 0 Axes>"
     ]
    },
    {
     "output_type": "display_data",
     "data": {
      "image/png": "[encoded data removed]"
     },
     "metadata": {
      "application/vnd.databricks.v1+output": {
       "addedWidgets": {},
       "arguments": {},
       "data": "data:image/png;base64,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\n",
       "datasetInfos": [],
       "metadata": {},
       "removedWidgets": [],
       "type": "image"
      }
     },
     "output_type": "display_data"
    }
   ],
   "source": [
    "import matplotlib.pyplot as plt\n",
    "plt.figure(figsize=(20, 6))\n",
    "lgb.plot_importance(model, max_num_features=20, importance_type='gain')\n",
    "plt.title(\"Importância das Features - LightGBM (gain)\")\n",
    "plt.show()\n"
   ]
  },
  {
   "cell_type": "code",
   "execution_count": 0,
   "metadata": {
    "application/vnd.databricks.v1+cell": {
     "cellMetadata": {
      "byteLimit": 2048000,
      "rowLimit": 10000
     },
     "inputWidgets": {},
     "nuid": "417efbb9-a054-46c7-af15-13f957c9b008",
     "showTitle": false,
     "tableResultSettingsMap": {},
     "title": ""
    }
   },
   "outputs": [
    {
     "output_type": "display_data",
     "data": {
      "text/html": [
       "<div>\n",
       "<style scoped>\n",
       "    .dataframe tbody tr th:only-of-type {\n",
       "        vertical-align: middle;\n",
       "    }\n",
       "\n",
       "    .dataframe tbody tr th {\n",
       "        vertical-align: top;\n",
       "    }\n",
       "\n",
       "    .dataframe thead th {\n",
       "        text-align: right;\n",
       "    }\n",
       "</style>\n",
       "<table border=\"1\" class=\"dataframe\">\n",
       "  <thead>\n",
       "    <tr style=\"text-align: right;\">\n",
       "      <th></th>\n",
       "      <th>account_id</th>\n",
       "      <th>offer_id</th>\n",
       "      <th>score</th>\n",
       "    </tr>\n",
       "  </thead>\n",
       "  <tbody>\n",
       "    <tr>\n",
       "      <th>0</th>\n",
       "      <td>0009655768c64bdeb2e877511632db8f</td>\n",
       "      <td>fafdcd668e3743c1bb461111dcafc2a4</td>\n",
       "      <td>0.061862</td>\n",
       "    </tr>\n",
       "    <tr>\n",
       "      <th>6</th>\n",
       "      <td>0009655768c64bdeb2e877511632db8f</td>\n",
       "      <td>2298d6c36e964ae4a3e7e9706d1fb8c2</td>\n",
       "      <td>0.059572</td>\n",
       "    </tr>\n",
       "    <tr>\n",
       "      <th>8</th>\n",
       "      <td>0009655768c64bdeb2e877511632db8f</td>\n",
       "      <td>fafdcd668e3743c1bb461111dcafc2a4</td>\n",
       "      <td>0.054565</td>\n",
       "    </tr>\n",
       "    <tr>\n",
       "      <th>1</th>\n",
       "      <td>0009655768c64bdeb2e877511632db8f</td>\n",
       "      <td>f19421c1d4aa40978ebb69ca19b0e20d</td>\n",
       "      <td>0.054431</td>\n",
       "    </tr>\n",
       "    <tr>\n",
       "      <th>2</th>\n",
       "      <td>0009655768c64bdeb2e877511632db8f</td>\n",
       "      <td>2906b810c7d4411798c6938adc9daaa5</td>\n",
       "      <td>0.053222</td>\n",
       "    </tr>\n",
       "    <tr>\n",
       "      <th>14</th>\n",
       "      <td>0009655768c64bdeb2e877511632db8f</td>\n",
       "      <td>2298d6c36e964ae4a3e7e9706d1fb8c2</td>\n",
       "      <td>0.052275</td>\n",
       "    </tr>\n",
       "    <tr>\n",
       "      <th>9</th>\n",
       "      <td>0009655768c64bdeb2e877511632db8f</td>\n",
       "      <td>f19421c1d4aa40978ebb69ca19b0e20d</td>\n",
       "      <td>0.047135</td>\n",
       "    </tr>\n",
       "    <tr>\n",
       "      <th>10</th>\n",
       "      <td>0009655768c64bdeb2e877511632db8f</td>\n",
       "      <td>2906b810c7d4411798c6938adc9daaa5</td>\n",
       "      <td>0.045926</td>\n",
       "    </tr>\n",
       "    <tr>\n",
       "      <th>37967</th>\n",
       "      <td>0011e0d4e6b944f998e987f904e8c1e5</td>\n",
       "      <td>0b1e1539f2cc45b7b9fa7c272da2e1d7</td>\n",
       "      <td>0.060587</td>\n",
       "    </tr>\n",
       "    <tr>\n",
       "      <th>37975</th>\n",
       "      <td>0011e0d4e6b944f998e987f904e8c1e5</td>\n",
       "      <td>0b1e1539f2cc45b7b9fa7c272da2e1d7</td>\n",
       "      <td>0.060587</td>\n",
       "    </tr>\n",
       "    <tr>\n",
       "      <th>37959</th>\n",
       "      <td>0011e0d4e6b944f998e987f904e8c1e5</td>\n",
       "      <td>0b1e1539f2cc45b7b9fa7c272da2e1d7</td>\n",
       "      <td>0.051140</td>\n",
       "    </tr>\n",
       "    <tr>\n",
       "      <th>37952</th>\n",
       "      <td>0011e0d4e6b944f998e987f904e8c1e5</td>\n",
       "      <td>fafdcd668e3743c1bb461111dcafc2a4</td>\n",
       "      <td>0.023696</td>\n",
       "    </tr>\n",
       "    <tr>\n",
       "      <th>37960</th>\n",
       "      <td>0011e0d4e6b944f998e987f904e8c1e5</td>\n",
       "      <td>fafdcd668e3743c1bb461111dcafc2a4</td>\n",
       "      <td>0.023458</td>\n",
       "    </tr>\n",
       "    <tr>\n",
       "      <th>37968</th>\n",
       "      <td>0011e0d4e6b944f998e987f904e8c1e5</td>\n",
       "      <td>fafdcd668e3743c1bb461111dcafc2a4</td>\n",
       "      <td>0.023458</td>\n",
       "    </tr>\n",
       "    <tr>\n",
       "      <th>37958</th>\n",
       "      <td>0011e0d4e6b944f998e987f904e8c1e5</td>\n",
       "      <td>2298d6c36e964ae4a3e7e9706d1fb8c2</td>\n",
       "      <td>0.021406</td>\n",
       "    </tr>\n",
       "    <tr>\n",
       "      <th>37966</th>\n",
       "      <td>0011e0d4e6b944f998e987f904e8c1e5</td>\n",
       "      <td>2298d6c36e964ae4a3e7e9706d1fb8c2</td>\n",
       "      <td>0.021168</td>\n",
       "    </tr>\n",
       "  </tbody>\n",
       "</table>\n",
       "</div>"
      ]
     },
     "metadata": {
      "application/vnd.databricks.v1+output": {
       "addedWidgets": {},
       "arguments": {},
       "data": "<div>\n<style scoped>\n    .dataframe tbody tr th:only-of-type {\n        vertical-align: middle;\n    }\n\n    .dataframe tbody tr th {\n        vertical-align: top;\n    }\n\n    .dataframe thead th {\n        text-align: right;\n    }\n</style>\n<table border=\"1\" class=\"dataframe\">\n  <thead>\n    <tr style=\"text-align: right;\">\n      <th></th>\n      <th>account_id</th>\n      <th>offer_id</th>\n      <th>score</th>\n    </tr>\n  </thead>\n  <tbody>\n    <tr>\n      <th>0</th>\n      <td>0009655768c64bdeb2e877511632db8f</td>\n      <td>fafdcd668e3743c1bb461111dcafc2a4</td>\n      <td>0.061862</td>\n    </tr>\n    <tr>\n      <th>6</th>\n      <td>0009655768c64bdeb2e877511632db8f</td>\n      <td>2298d6c36e964ae4a3e7e9706d1fb8c2</td>\n      <td>0.059572</td>\n    </tr>\n    <tr>\n      <th>8</th>\n      <td>0009655768c64bdeb2e877511632db8f</td>\n      <td>fafdcd668e3743c1bb461111dcafc2a4</td>\n      <td>0.054565</td>\n    </tr>\n    <tr>\n      <th>1</th>\n      <td>0009655768c64bdeb2e877511632db8f</td>\n      <td>f19421c1d4aa40978ebb69ca19b0e20d</td>\n      <td>0.054431</td>\n    </tr>\n    <tr>\n      <th>2</th>\n      <td>0009655768c64bdeb2e877511632db8f</td>\n      <td>2906b810c7d4411798c6938adc9daaa5</td>\n      <td>0.053222</td>\n    </tr>\n    <tr>\n      <th>14</th>\n      <td>0009655768c64bdeb2e877511632db8f</td>\n      <td>2298d6c36e964ae4a3e7e9706d1fb8c2</td>\n      <td>0.052275</td>\n    </tr>\n    <tr>\n      <th>9</th>\n      <td>0009655768c64bdeb2e877511632db8f</td>\n      <td>f19421c1d4aa40978ebb69ca19b0e20d</td>\n      <td>0.047135</td>\n    </tr>\n    <tr>\n      <th>10</th>\n      <td>0009655768c64bdeb2e877511632db8f</td>\n      <td>2906b810c7d4411798c6938adc9daaa5</td>\n      <td>0.045926</td>\n    </tr>\n    <tr>\n      <th>37967</th>\n      <td>0011e0d4e6b944f998e987f904e8c1e5</td>\n      <td>0b1e1539f2cc45b7b9fa7c272da2e1d7</td>\n      <td>0.060587</td>\n    </tr>\n    <tr>\n      <th>37975</th>\n      <td>0011e0d4e6b944f998e987f904e8c1e5</td>\n      <td>0b1e1539f2cc45b7b9fa7c272da2e1d7</td>\n      <td>0.060587</td>\n    </tr>\n    <tr>\n      <th>37959</th>\n      <td>0011e0d4e6b944f998e987f904e8c1e5</td>\n      <td>0b1e1539f2cc45b7b9fa7c272da2e1d7</td>\n      <td>0.051140</td>\n    </tr>\n    <tr>\n      <th>37952</th>\n      <td>0011e0d4e6b944f998e987f904e8c1e5</td>\n      <td>fafdcd668e3743c1bb461111dcafc2a4</td>\n      <td>0.023696</td>\n    </tr>\n    <tr>\n      <th>37960</th>\n      <td>0011e0d4e6b944f998e987f904e8c1e5</td>\n      <td>fafdcd668e3743c1bb461111dcafc2a4</td>\n      <td>0.023458</td>\n    </tr>\n    <tr>\n      <th>37968</th>\n      <td>0011e0d4e6b944f998e987f904e8c1e5</td>\n      <td>fafdcd668e3743c1bb461111dcafc2a4</td>\n      <td>0.023458</td>\n    </tr>\n    <tr>\n      <th>37958</th>\n      <td>0011e0d4e6b944f998e987f904e8c1e5</td>\n      <td>2298d6c36e964ae4a3e7e9706d1fb8c2</td>\n      <td>0.021406</td>\n    </tr>\n    <tr>\n      <th>37966</th>\n      <td>0011e0d4e6b944f998e987f904e8c1e5</td>\n      <td>2298d6c36e964ae4a3e7e9706d1fb8c2</td>\n      <td>0.021168</td>\n    </tr>\n  </tbody>\n</table>\n</div>",
       "datasetInfos": [],
       "metadata": {},
       "removedWidgets": [],
       "textData": null,
       "type": "htmlSandbox"
      }
     },
     "output_type": "display_data"
    }
   ],
   "source": [
    "#Criando a recomendação \n",
    "\n",
    "user_features_cols = [\n",
    "    \"age\", \"credit_limit_category\", \"user_avg_amount\", \"user_avg_reward\",\n",
    "    \"user_total_transactions\", \"days_since_registration\", \"is_fem\",\n",
    "    \"user_offer_conv_rate\", \"engagement_score\", \"min_value_affordability\",\n",
    "]\n",
    "\n",
    "item_features_cols = [\n",
    "    \"discount_value\", \"min_value\", \"duration\", \"offer_type\"\n",
    "]\n",
    "\n",
    "user_df = df_filtered[[\"account_id\"] + user_features_cols].drop_duplicates()\n",
    "offer_df = df_filtered[[\"offer_id\"] + item_features_cols].drop_duplicates()\n",
    "\n",
    "user_df = user_df.dropna()\n",
    "offer_df = offer_df.dropna()\n",
    "\n",
    "pred_df = user_df.merge(offer_df, how=\"cross\")\n",
    "\n",
    "# As mesmas features usadas no modelo\n",
    "feature_cols = user_features_cols + item_features_cols\n",
    "X_pred = pred_df[feature_cols]\n",
    "\n",
    "# Predição com modelo treinado\n",
    "pred_df[\"score\"] = model.predict(X_pred)\n",
    "\n",
    "top5_df = (\n",
    "    pred_df.sort_values([\"account_id\", \"score\"], ascending=[True, False])\n",
    "    .groupby(\"account_id\")\n",
    "    .head(5)\n",
    ")\n",
    "\n",
    "top5_recommendations = top5_df[[\"account_id\", \"offer_id\", \"score\"]]\n",
    "top5_recommendations.head(16)"
   ]
  }
 ],
 "metadata": {
  "application/vnd.databricks.v1+notebook": {
   "computePreferences": null,
   "dashboards": [],
   "environmentMetadata": {
    "base_environment": "",
    "environment_version": "1"
   },
   "inputWidgetPreferences": null,
   "language": "python",
   "notebookMetadata": {
    "pythonIndentUnit": 4
   },
   "notebookName": "2_modeling",
   "widgets": {}
  }
 },
 "nbformat": 4,
 "nbformat_minor": 0
}